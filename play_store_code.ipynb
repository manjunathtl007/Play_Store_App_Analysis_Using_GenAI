{
  "cells": [
    {
      "cell_type": "markdown",
      "metadata": {
        "deletable": false,
        "editable": false,
        "id": "idEvhOXix_jg",
        "run_control": {
          "frozen": true
        }
      },
      "source": [
        "## **Play Store Apps Analysis**\n",
        "Imagine you're diving into a big dataset from the Google Play Store. You'll be using Python to explore it and find interesting insights.\n",
        "\n",
        "First, the data will be cleaned up using Python to fix any mistakes and make it look neat.\n",
        "\n",
        "Once the data is clean, SQL will be used to find hidden patterns and correlations in the data. However, in this project, we are only going to work on cleaning tasks.\n",
        "\n",
        "Visualizations will also be created to make it easier to understand the data. Charts and graphs will show patterns and trends.\n",
        "\n",
        "By the end, you'll have learned a lot about how to make smart decisions using data. This project helps everyone understand how to use data to make better choices in our digital world.\n",
        "\n",
        "Join this adventure as you explore the Google Play Store dataset. Get ready to find out all sorts of interesting things about your favorite apps!"
      ]
    },
    {
      "cell_type": "markdown",
      "metadata": {
        "deletable": false,
        "editable": false,
        "id": "JUtT3DDuzMg3",
        "run_control": {
          "frozen": true
        }
      },
      "source": [
        "### **Install the required libraries**\n",
        "**langchain**: An open source framework for building applications based on large language models (LLMs).\n",
        "\n",
        "**langchain_experimental**: An experimental extension of the langchain library, offering cutting-edge features and functionalities for advanced natural language processing tasks.\n",
        "\n",
        "**openai**: A powerful Python library developed by OpenAI, offering state-of-the-art natural language processing capabilities. It provides tools and utilities for a wide range of NLP tasks, including text generation, text classification, language translation, and more."
      ]
    },
    {
      "cell_type": "code",
      "execution_count": null,
      "metadata": {
        "colab": {
          "base_uri": "https://localhost:8080/"
        },
        "id": "IeK4Va9GzpWG",
        "outputId": "098990d4-285c-4602-efd5-33bcc767a14e"
      },
      "outputs": [],
      "source": [
        "!pip install langchain\n",
        "!pip install langchain_experimental\n",
        "!pip install openai"
      ]
    },
    {
      "cell_type": "markdown",
      "metadata": {
        "deletable": false,
        "editable": false,
        "id": "b5NxH3t70dtJ",
        "run_control": {
          "frozen": true
        }
      },
      "source": [
        "### Task 1: Data Preparation: Importing Libraries, Setting up API Key, and Reading Data\n",
        "Before we start our analysis, let's ensure we have everything we need. First, we'll import the required libraries. Then, we'll set up our GPT-3.5 API key for access. Finally, we'll read the data from our CSV file and get everything ready.\n",
        "\n",
        "\n",
        "\n",
        "\n",
        "**To obtain an API key for OpenAI, follow these steps:**\n",
        "\n",
        "* Log in to your OpenAI account at OpenAI Login Page(https://platform.openai.com/login?launch).\n",
        "\n",
        "* Generate and retrieve your API key by visiting API Key Generation Page.(https://platform.openai.com/api-keys)\n",
        "\n",
        "\n",
        "\n",
        "Download the Playstore Datasets.(https://drive.google.com/drive/folders/1l_TabQZpTRypVKwVcHoD98YSAyXZOu91?usp=sharing)\n",
        "\n"
      ]
    },
    {
      "cell_type": "code",
      "execution_count": null,
      "metadata": {
        "id": "f67SEm4qzpYv"
      },
      "outputs": [],
      "source": [
        "import os\n",
        "import pandas as pd\n",
        "from langchain_experimental.agents.agent_toolkits import create_pandas_dataframe_agent\n",
        "from langchain.llms import OpenAI\n",
        "\n",
        "#Setup the api key\n",
        "os.environ['OPENAI_API_KEY']=\"your-api-key\"\n",
        "\n",
        "#Load the dataset (playstore_apps.csv) and assign it to a variable 'df'.\n",
        "df = pd.read_csv('playstore_apps.csv')"
      ]
    },
    {
      "cell_type": "markdown",
      "metadata": {
        "deletable": false,
        "editable": false,
        "id": "og3uUjNho8R7",
        "run_control": {
          "frozen": true
        }
      },
      "source": [
        "### Task 2: Display Top 5 Records.\n",
        "\n",
        "Great! Initializing our agent(OpenAI) is our next step. Once that's done, we'll create a prompt to display the first 5 records from our data table"
      ]
    },
    {
      "cell_type": "code",
      "execution_count": null,
      "metadata": {
        "colab": {
          "base_uri": "https://localhost:8080/"
        },
        "id": "pRgsw4gjmu1F",
        "outputId": "fa29aa3e-ab97-484f-c152-b60b4bc833ba"
      },
      "outputs": [],
      "source": [
        "# Initializing the agent\n",
        "agent = create_pandas_dataframe_agent(OpenAI(temperature=0),\n",
        "              df, verbose=True)\n",
        "\n",
        "agent(\"\"\"Display top 5 records of df\"\"\")"
      ]
    },
    {
      "cell_type": "markdown",
      "metadata": {
        "deletable": false,
        "editable": false,
        "id": "_WA0pK5n53dw",
        "run_control": {
          "frozen": true
        }
      },
      "source": [
        "### Task 3: Determine the Shape(Count Rows and Columns) of the Dataset.\n",
        "Great! For our next step, let's create a prompt to gather information about the shape of our playstore app dataset. This will help us understand how many rows and columns it contains."
      ]
    },
    {
      "cell_type": "code",
      "execution_count": null,
      "metadata": {
        "colab": {
          "base_uri": "https://localhost:8080/"
        },
        "id": "mPkA7zd953k_",
        "outputId": "2a0c3e0b-afd4-43b2-8b4f-b14f698c8922"
      },
      "outputs": [],
      "source": [
        "agent(\"What is the shape of the dataset df?\")"
      ]
    },
    {
      "cell_type": "markdown",
      "metadata": {
        "deletable": false,
        "editable": false,
        "id": "6cbi52zG7E8U",
        "run_control": {
          "frozen": true
        }
      },
      "source": [
        "### Task 4: Finding the Missing data.\n",
        "Wow! We've successfully found out the shape of the dataset. Now, let's create a prompt to ask our agent to help us find details about any missing information in the data table"
      ]
    },
    {
      "cell_type": "code",
      "execution_count": null,
      "metadata": {
        "colab": {
          "base_uri": "https://localhost:8080/"
        },
        "id": "xaxUndfi7FFa",
        "outputId": "ff0add3e-3232-41fd-f9c4-f140cbb8e234"
      },
      "outputs": [],
      "source": [
        "agent(\"How many missing values are there in each column in df?\")"
      ]
    },
    {
      "cell_type": "markdown",
      "metadata": {
        "deletable": false,
        "editable": false,
        "id": "dd_5WaQH9C2u",
        "run_control": {
          "frozen": true
        }
      },
      "source": [
        "### Task 5: Identifying Duplicate Rows.\n",
        "Fantastic! We've successfully found the missing values. Now, let's create a prompt to ask our agent to count the number of duplicate rows in the playstore app dataset."
      ]
    },
    {
      "cell_type": "code",
      "execution_count": null,
      "metadata": {
        "colab": {
          "base_uri": "https://localhost:8080/"
        },
        "id": "3V9zZ_np9C8Z",
        "outputId": "230bb94d-7f75-4fc0-b97e-5cb76c15af76"
      },
      "outputs": [],
      "source": [
        "agent(\"How many duplicate rows are there in each column in df?\")"
      ]
    },
    {
      "cell_type": "markdown",
      "metadata": {
        "deletable": false,
        "editable": false,
        "id": "xQolPJMY-xGr",
        "run_control": {
          "frozen": true
        }
      },
      "source": [
        "### Task 6: Dropping Unnecessary Columns.\n",
        "Fantastic! We successfully found the duplicates. Now, let's create a prompt to ask our agent to remove the Last Updated, Current Ver, Android Ver and Size columns from the playstore dataset."
      ]
    },
    {
      "cell_type": "code",
      "execution_count": null,
      "metadata": {
        "colab": {
          "base_uri": "https://localhost:8080/"
        },
        "id": "x226UO76-xNx",
        "outputId": "0a11ed4e-f4fc-48db-e6b5-314eba117d79"
      },
      "outputs": [],
      "source": [
        "agent(\"Remove the Last Updated, Current Ver, Android Ver and Size columns from the df and update in place?\")"
      ]
    },
    {
      "cell_type": "markdown",
      "metadata": {
        "deletable": false,
        "editable": false,
        "id": "AeX7d4aTCZo4",
        "run_control": {
          "frozen": true
        }
      },
      "source": [
        "### Task 7: Removing Duplicate Rows.\n",
        "Great progress! We were successful in dropped the columns. Now, let's create a prompt to ask our agent to remove duplicate rows from the playstore dataset."
      ]
    },
    {
      "cell_type": "code",
      "execution_count": null,
      "metadata": {
        "colab": {
          "base_uri": "https://localhost:8080/"
        },
        "id": "0TJ221DmCZ1W",
        "outputId": "b3f30a62-d209-4f5c-f556-7e8f5c974c7d"
      },
      "outputs": [],
      "source": [
        "agent(\"Please write code to remove duplicate rows from the DataFrame 'df' and update in place\")"
      ]
    },
    {
      "cell_type": "markdown",
      "metadata": {
        "deletable": false,
        "editable": false,
        "id": "iPeHjk0m_tlX",
        "run_control": {
          "frozen": true
        }
      },
      "source": [
        "### Task 8: Filling missing values in the DataFrame.\n",
        "Good job! The duplicated rows have been successfully dropped. Let's now build a prompt to request that our agent to fill missing values in the Rating, Reviews, Price and Installs columns with the mean. Fill missing values in the Type column with the string 'Free'. Finally, fill missing values in the Content Rating column with the string 'Everyone'."
      ]
    },
    {
      "cell_type": "code",
      "execution_count": null,
      "metadata": {
        "id": "-5SxeWUDun7I"
      },
      "outputs": [],
      "source": [
        "# agent(\"\"\"Fill missing values in the Rating column with their mean value.\n",
        "# Fill missing values in the 'Reviews' column with their mean value.\n",
        "# Fill missing values in the 'Price' column with their column mean() value and update in place.\n",
        "# Fill missing values in the 'Installs' column with their column mean() value and update in place. After that,\n",
        "# Fill missing values in the 'Type' column with the string 'Free' value and update in place.\n",
        "# And, fill missing values in the 'Content Rating' column with the string 'Everyone' and update in place\"\"\")"
      ]
    },
    {
      "cell_type": "code",
      "execution_count": null,
      "metadata": {
        "colab": {
          "base_uri": "https://localhost:8080/"
        },
        "id": "h-LKAq-O_tsI",
        "outputId": "baaa8f2d-ba1d-492c-d42b-f80d29f64874"
      },
      "outputs": [],
      "source": [
        "agent(\"Fill missing values in the Rating column with their mean value\")\n",
        "agent(\"Fill missing values in the Reviews column with their mean value\")\n",
        "agent(\"Fill missing values in the Price column with their mean value\")\n",
        "agent(\"Fill missing values in the Installs column with their mean value\")\n",
        "agent(\"Fill missing values in the 'Type' column with the string 'Free' value\")\n",
        "agent(\"fill missing values in the 'Content Rating' column with the string 'Everyone'\")\n",
        "df.shape"
      ]
    },
    {
      "cell_type": "code",
      "execution_count": null,
      "metadata": {
        "colab": {
          "base_uri": "https://localhost:8080/"
        },
        "id": "dyxS7ia_lZnR",
        "outputId": "5f580ff9-a57d-419b-c985-0c16042591b0"
      },
      "outputs": [],
      "source": []
    },
    {
      "cell_type": "markdown",
      "metadata": {
        "deletable": false,
        "editable": false,
        "id": "pBhlarQOBD8x",
        "run_control": {
          "frozen": true
        }
      },
      "source": [
        "### Task 9: Eliminating Data Anomalies.\n",
        "\n",
        "Wow! We've successfully filled the missing values. Now, let's develop a prompt to tell our agent to remove the rows with Category equal to '1.9' from the DataFrame."
      ]
    },
    {
      "cell_type": "code",
      "execution_count": null,
      "metadata": {
        "colab": {
          "base_uri": "https://localhost:8080/"
        },
        "id": "eXWTThgqBEEx",
        "outputId": "2d10e942-856e-44c9-fc52-ac300d31d814"
      },
      "outputs": [],
      "source": [
        "agent(\"Remove the rows with Category column equal to '1.9' from the DataFrame. update in place\")"
      ]
    },
    {
      "cell_type": "markdown",
      "metadata": {
        "deletable": false,
        "editable": false,
        "id": "SSrn5uwWDcH-",
        "run_control": {
          "frozen": true
        }
      },
      "source": [
        "### Task 10: Check App Distribution.\n",
        "\n",
        "Fantastic! We've successfully removed the anamolies. Now, let's construct a prompt that tells our agent to count occurrences of each unique value in the Type column."
      ]
    },
    {
      "cell_type": "code",
      "execution_count": null,
      "metadata": {
        "colab": {
          "base_uri": "https://localhost:8080/"
        },
        "id": "nyVdUdYzDcO6",
        "outputId": "1b7c2997-2c8b-421e-8e16-40c6257d6ff0"
      },
      "outputs": [],
      "source": [
        "agent(\"count occurrences of each unique value in the Type column\")"
      ]
    },
    {
      "cell_type": "markdown",
      "metadata": {
        "deletable": false,
        "editable": false,
        "id": "P3-O18xiECEC",
        "run_control": {
          "frozen": true
        }
      },
      "source": [
        "### Task 11:  Cleaning App Name.\n",
        "Amazing Let's now develop a prompt to advise our helper to update the 'df' DataFrame by identifying rows where App column starts with '?'. And remove those rows in the dataframe."
      ]
    },
    {
      "cell_type": "code",
      "execution_count": null,
      "metadata": {
        "colab": {
          "base_uri": "https://localhost:8080/"
        },
        "id": "Jsl9zz1cECLh",
        "outputId": "023296fb-3a6c-4a8e-8cec-5eb02376ffb9"
      },
      "outputs": [],
      "source": [
        "agent(\"remove those rows where App column starts with '?' in df and update in place\")"
      ]
    },
    {
      "cell_type": "code",
      "execution_count": null,
      "metadata": {
        "colab": {
          "base_uri": "https://localhost:8080/",
          "height": 527
        },
        "id": "K3E53juJStxk",
        "outputId": "fa6936c8-1fd3-4263-8adc-e42b9e80c3bb"
      },
      "outputs": [],
      "source": [
        "# export the cleaned dataframe 'df' with the name 'cleaned_apps_db.csv' using the parameter index=True.\n",
        "df"
      ]
    },
    {
      "cell_type": "markdown",
      "metadata": {
        "deletable": false,
        "editable": false,
        "id": "HEhuBs0xFOEZ",
        "run_control": {
          "frozen": true
        }
      },
      "source": [
        "### Task 12: Display Top 5 Records for playstore_reviews.\n",
        "\n",
        "Great! Initializing our another agent(OpenAI) is our next step. Once that's done, we'll create a prompt to display the first 5 records from our playstore_reviews table."
      ]
    },
    {
      "cell_type": "code",
      "execution_count": null,
      "metadata": {
        "colab": {
          "base_uri": "https://localhost:8080/"
        },
        "id": "57sg-9KSMMCZ",
        "outputId": "08163c57-f197-4a8f-f073-4b048c332b5a"
      },
      "outputs": [],
      "source": [
        "#Load the dataset (playstore_reviews.csv) and assign it to a variable 'df1'.\n",
        "df1 = pd.read_csv('playstore_reviews.csv')\n",
        "# Initializing the agent1.\n",
        "agent1 = create_pandas_dataframe_agent(OpenAI(temperature=0),\n",
        "              df1, verbose=True)\n",
        "\n",
        "# write your prompt using the agent1\n",
        "\n",
        "agent1('Display top 5 records of df1 dataframe')"
      ]
    },
    {
      "cell_type": "markdown",
      "metadata": {
        "deletable": false,
        "editable": false,
        "id": "AnwaMWStGQ4U",
        "run_control": {
          "frozen": true
        }
      },
      "source": [
        "### Task 13: Determine the Shape(Count Rows and Columns) of the Dataset.\n",
        "Great! For our next step, let's create a prompt to gather information about the shape of our playstore_reviews dataset. This will help us understand how many rows and columns it contains."
      ]
    },
    {
      "cell_type": "code",
      "execution_count": null,
      "metadata": {
        "colab": {
          "base_uri": "https://localhost:8080/"
        },
        "id": "I2UPdWJSGRBD",
        "outputId": "cc21b1d4-19c6-4562-d7f1-8c683391c6f8"
      },
      "outputs": [],
      "source": [
        "agent1(\"What is the shape of the df1 dataset?\")"
      ]
    },
    {
      "cell_type": "markdown",
      "metadata": {
        "id": "uFwwdQvdRvVV"
      },
      "source": [
        "### Task 14: Finding the Missing data.\n",
        "Wow! We've successfully found out the shape of the dataset. Now, let's create a prompt to ask our agent to help us find details about any missing information in the playstore_reviews table."
      ]
    },
    {
      "cell_type": "code",
      "execution_count": null,
      "metadata": {
        "colab": {
          "base_uri": "https://localhost:8080/"
        },
        "id": "0YvztIr1Rv3O",
        "outputId": "ab3db1ef-2ba8-49f4-8fee-36fca40626d6"
      },
      "outputs": [],
      "source": [
        "agent1(\"How many missing values are there in each column in df1?\")"
      ]
    },
    {
      "cell_type": "markdown",
      "metadata": {
        "id": "zEWdvCUZRwAB"
      },
      "source": [
        "### Task 15: Identifying Duplicate Rows.\n",
        "Fantastic! We've successfully found the missing values. Now, let's create a prompt to ask our agent to count the number of duplicate rows in the playstore_reviews dataset."
      ]
    },
    {
      "cell_type": "code",
      "execution_count": null,
      "metadata": {
        "colab": {
          "base_uri": "https://localhost:8080/"
        },
        "id": "zQL0lFiHRwFo",
        "outputId": "49938783-49fa-453a-f40e-f7453c1920e9"
      },
      "outputs": [],
      "source": [
        "agent1(\"count the duplicate rows in dataframe df1?\")"
      ]
    },
    {
      "cell_type": "markdown",
      "metadata": {
        "id": "PamrDKNVSFYt"
      },
      "source": [
        "### Task 16: Removing Missing values.\n",
        "Incredible! We were successful in identify the duplicates. Now, let's create a prompt to ask our agent to drop rows with missing values from the playstore_reviews dataset."
      ]
    },
    {
      "cell_type": "code",
      "execution_count": null,
      "metadata": {
        "colab": {
          "base_uri": "https://localhost:8080/"
        },
        "id": "Tmm97GImSFdp",
        "outputId": "96641eaf-e56a-4af8-ed52-f27436cd3a0a"
      },
      "outputs": [],
      "source": [
        "agent1(\"Drop rows with missing values the DataFrame df1 and update in place\")"
      ]
    },
    {
      "cell_type": "markdown",
      "metadata": {
        "id": "V04WjL8VSFjr"
      },
      "source": [
        "### Task 17: Removing Duplicate Rows.\n",
        "Great progress! We were successful in dropped the missing values. Now, let's create a prompt to ask our agent to remove duplicate rows from the playstore_reviews dataset."
      ]
    },
    {
      "cell_type": "code",
      "execution_count": null,
      "metadata": {
        "colab": {
          "base_uri": "https://localhost:8080/"
        },
        "id": "8VCvHFXmSFoY",
        "outputId": "39970132-0e58-4f30-c891-24900b14036c"
      },
      "outputs": [],
      "source": [
        "agent1(\"Please write code to remove duplicate rows from the DataFrame df1 and update in place\")"
      ]
    },
    {
      "cell_type": "code",
      "execution_count": null,
      "metadata": {
        "id": "RW-lnKgxFoR2"
      },
      "outputs": [],
      "source": [
        "# export the cleaned dataframe 'df1' with the name 'cleaned_reviews_db.csv' using the parameter index=True."
      ]
    }
  ],
  "metadata": {
    "colab": {
      "provenance": []
    },
    "kernelspec": {
      "display_name": "Python 3 (ipykernel)",
      "language": "python",
      "name": "python3"
    },
    "language_info": {
      "codemirror_mode": {
        "name": "ipython",
        "version": 3
      },
      "file_extension": ".py",
      "mimetype": "text/x-python",
      "name": "python",
      "nbconvert_exporter": "python",
      "pygments_lexer": "ipython3",
      "version": "3.11.4"
    }
  },
  "nbformat": 4,
  "nbformat_minor": 0
}
